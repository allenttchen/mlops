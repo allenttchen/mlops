{
 "cells": [
  {
   "cell_type": "markdown",
   "id": "1c268890-fc31-4ef2-a8af-b979ba3f945a",
   "metadata": {},
   "source": [
    "# Scratch"
   ]
  },
  {
   "cell_type": "code",
   "execution_count": 1,
   "id": "db2177ec-c336-420d-adec-2dcef1fbf4a3",
   "metadata": {},
   "outputs": [],
   "source": [
    "%load_ext autoreload\n",
    "%autoreload 2"
   ]
  },
  {
   "cell_type": "code",
   "execution_count": 2,
   "id": "35d6962f-5c0d-4c26-aa0b-3202a6562166",
   "metadata": {},
   "outputs": [],
   "source": [
    "import os\n",
    "\n",
    "import pandas as pd\n",
    "import numpy as np\n",
    "import matplotlib.pyplot as plt\n",
    "\n",
    "from constants import ROOT_DIR\n",
    "import torch\n",
    "from models import (\n",
    "    load_mnist_dataloader, \n",
    "    CNN, \n",
    "    Trainer, \n",
    ")\n",
    "from utils import set_device"
   ]
  },
  {
   "cell_type": "code",
   "execution_count": 3,
   "id": "4ba29643-4b9e-4e2a-858c-9f22e8c2f2dc",
   "metadata": {},
   "outputs": [
    {
     "name": "stdout",
     "output_type": "stream",
     "text": [
      "Downloading http://yann.lecun.com/exdb/mnist/train-images-idx3-ubyte.gz\n",
      "Downloading http://yann.lecun.com/exdb/mnist/train-images-idx3-ubyte.gz to /Users/allenchen/projects/mlops/data/mnist/MNIST/raw/train-images-idx3-ubyte.gz\n"
     ]
    },
    {
     "name": "stderr",
     "output_type": "stream",
     "text": [
      "100%|██████████████████████████████████████████████████████████████████████████████████████████████████████████████████| 9912422/9912422 [00:00<00:00, 24271423.87it/s]\n"
     ]
    },
    {
     "name": "stdout",
     "output_type": "stream",
     "text": [
      "Extracting /Users/allenchen/projects/mlops/data/mnist/MNIST/raw/train-images-idx3-ubyte.gz to /Users/allenchen/projects/mlops/data/mnist/MNIST/raw\n",
      "\n",
      "Downloading http://yann.lecun.com/exdb/mnist/train-labels-idx1-ubyte.gz\n",
      "Downloading http://yann.lecun.com/exdb/mnist/train-labels-idx1-ubyte.gz to /Users/allenchen/projects/mlops/data/mnist/MNIST/raw/train-labels-idx1-ubyte.gz\n"
     ]
    },
    {
     "name": "stderr",
     "output_type": "stream",
     "text": [
      "100%|██████████████████████████████████████████████████████████████████████████████████████████████████████████████████████| 28881/28881 [00:00<00:00, 17589036.42it/s]"
     ]
    },
    {
     "name": "stdout",
     "output_type": "stream",
     "text": [
      "Extracting /Users/allenchen/projects/mlops/data/mnist/MNIST/raw/train-labels-idx1-ubyte.gz to /Users/allenchen/projects/mlops/data/mnist/MNIST/raw\n",
      "\n",
      "Downloading http://yann.lecun.com/exdb/mnist/t10k-images-idx3-ubyte.gz\n"
     ]
    },
    {
     "name": "stderr",
     "output_type": "stream",
     "text": [
      "\n"
     ]
    },
    {
     "name": "stdout",
     "output_type": "stream",
     "text": [
      "Downloading http://yann.lecun.com/exdb/mnist/t10k-images-idx3-ubyte.gz to /Users/allenchen/projects/mlops/data/mnist/MNIST/raw/t10k-images-idx3-ubyte.gz\n"
     ]
    },
    {
     "name": "stderr",
     "output_type": "stream",
     "text": [
      "100%|██████████████████████████████████████████████████████████████████████████████████████████████████████████████████| 1648877/1648877 [00:00<00:00, 12405319.87it/s]\n"
     ]
    },
    {
     "name": "stdout",
     "output_type": "stream",
     "text": [
      "Extracting /Users/allenchen/projects/mlops/data/mnist/MNIST/raw/t10k-images-idx3-ubyte.gz to /Users/allenchen/projects/mlops/data/mnist/MNIST/raw\n",
      "\n",
      "Downloading http://yann.lecun.com/exdb/mnist/t10k-labels-idx1-ubyte.gz\n",
      "Downloading http://yann.lecun.com/exdb/mnist/t10k-labels-idx1-ubyte.gz to /Users/allenchen/projects/mlops/data/mnist/MNIST/raw/t10k-labels-idx1-ubyte.gz\n"
     ]
    },
    {
     "name": "stderr",
     "output_type": "stream",
     "text": [
      "100%|█████████████████████████████████████████████████████████████████████████████████████████████████████████████████████████| 4542/4542 [00:00<00:00, 4716644.90it/s]\n"
     ]
    },
    {
     "name": "stdout",
     "output_type": "stream",
     "text": [
      "Extracting /Users/allenchen/projects/mlops/data/mnist/MNIST/raw/t10k-labels-idx1-ubyte.gz to /Users/allenchen/projects/mlops/data/mnist/MNIST/raw\n",
      "\n"
     ]
    },
    {
     "name": "stderr",
     "output_type": "stream",
     "text": [
      "100%|████████████████████████████████████████████████████████████████████████████████████████████████████████████████████████████████████| 5/5 [01:43<00:00, 20.73s/it]\n"
     ]
    }
   ],
   "source": [
    "# configs:\n",
    "epochs = 5\n",
    "\n",
    "data_folder = os.path.join(ROOT_DIR, \"data/mnist\")\n",
    "torch_device = set_device(mps=True)\n",
    "train_dataloader, val_dataloader = load_mnist_dataloader(root=data_folder, flatten=True, batch_size=64)\n",
    "cnn = CNN()\n",
    "\n",
    "trainer = Trainer(cnn, device=torch_device)\n",
    "results = trainer.train(epochs=5, train_dataloader=train_dataloader, val_dataloader=val_dataloader)"
   ]
  },
  {
   "cell_type": "code",
   "execution_count": 4,
   "id": "6f448d5e-a72c-476b-8a2d-02c8675cfb19",
   "metadata": {},
   "outputs": [
    {
     "data": {
      "text/plain": [
       "{'train_loss': [0.24145144296586513,\n",
       "  0.09214696489274501,\n",
       "  0.06934858648081621,\n",
       "  0.059836706656962634,\n",
       "  0.04937307933866978],\n",
       " 'train_acc': [0.9260833333333334,\n",
       "  0.9723,\n",
       "  0.9793333333333333,\n",
       "  0.9817333333333333,\n",
       "  0.9843333333333333],\n",
       " 'val_loss': [0.05953156261630356,\n",
       "  0.036950162046530746,\n",
       "  0.03273382470298384,\n",
       "  0.03058519356966717,\n",
       "  0.03010948458893763],\n",
       " 'val_acc': [0.9808, 0.9876, 0.9886, 0.99, 0.9896]}"
      ]
     },
     "execution_count": 4,
     "metadata": {},
     "output_type": "execute_result"
    }
   ],
   "source": [
    "results"
   ]
  },
  {
   "cell_type": "code",
   "execution_count": 7,
   "id": "1ef148bf-592a-498d-829a-0dd3c5136090",
   "metadata": {},
   "outputs": [],
   "source": [
    "from torch import nn\n",
    "loss = nn.CrossEntropyLoss()\n",
    "logits = torch.randn(3, 5, requires_grad=True)\n",
    "target = torch.empty(3, dtype=torch.long).random_(5)\n",
    "output = loss(logits, target)"
   ]
  },
  {
   "cell_type": "code",
   "execution_count": 27,
   "id": "30703184-9115-43eb-8659-fb103955fee0",
   "metadata": {},
   "outputs": [],
   "source": [
    "from torchvision import datasets\n",
    "from torchvision.transforms import ToTensor\n",
    "from torch.utils.data import DataLoader\n",
    "from torch import nn"
   ]
  },
  {
   "cell_type": "code",
   "execution_count": 33,
   "id": "f1e61b38-f42d-4845-852e-a51698bd33b2",
   "metadata": {},
   "outputs": [],
   "source": [
    "training_data = datasets.MNIST(\n",
    "    root=\"data/mnist\",\n",
    "    train=True,\n",
    "    download=False,\n",
    "    transform=ToTensor()\n",
    ")"
   ]
  },
  {
   "cell_type": "code",
   "execution_count": 34,
   "id": "b837863e-2983-4f46-a2e2-887d9f22603a",
   "metadata": {},
   "outputs": [],
   "source": [
    "train_dataloader = DataLoader(training_data, batch_size=64)"
   ]
  },
  {
   "cell_type": "code",
   "execution_count": 35,
   "id": "68710299-c408-49d9-b8dc-91241e434bc1",
   "metadata": {},
   "outputs": [],
   "source": [
    "x, y = next(iter(train_dataloader))"
   ]
  },
  {
   "cell_type": "code",
   "execution_count": 36,
   "id": "275cb135-c886-45db-b680-1e9171762834",
   "metadata": {},
   "outputs": [
    {
     "data": {
      "text/plain": [
       "torch.Size([64, 1, 28, 28])"
      ]
     },
     "execution_count": 36,
     "metadata": {},
     "output_type": "execute_result"
    }
   ],
   "source": [
    "x.size()"
   ]
  },
  {
   "cell_type": "code",
   "execution_count": 37,
   "id": "c5b03bd6-e943-4e04-9def-d6742b113bc5",
   "metadata": {},
   "outputs": [
    {
     "data": {
      "text/plain": [
       "torch.Size([64])"
      ]
     },
     "execution_count": 37,
     "metadata": {},
     "output_type": "execute_result"
    }
   ],
   "source": [
    "y.size()"
   ]
  },
  {
   "cell_type": "code",
   "execution_count": 39,
   "id": "3c45a94e-c9b6-42e8-9fab-6c21b9efcf29",
   "metadata": {},
   "outputs": [
    {
     "data": {
      "text/plain": [
       "tensor(0)"
      ]
     },
     "execution_count": 39,
     "metadata": {},
     "output_type": "execute_result"
    }
   ],
   "source": [
    "torch.min(y)"
   ]
  },
  {
   "cell_type": "code",
   "execution_count": null,
   "id": "cbc86ba3-888f-4801-8e13-b32db72196b2",
   "metadata": {},
   "outputs": [],
   "source": []
  }
 ],
 "metadata": {
  "kernelspec": {
   "display_name": "Python 3 (ipykernel)",
   "language": "python",
   "name": "python3"
  },
  "language_info": {
   "codemirror_mode": {
    "name": "ipython",
    "version": 3
   },
   "file_extension": ".py",
   "mimetype": "text/x-python",
   "name": "python",
   "nbconvert_exporter": "python",
   "pygments_lexer": "ipython3",
   "version": "3.9.6"
  }
 },
 "nbformat": 4,
 "nbformat_minor": 5
}
